{
 "cells": [
  {
   "cell_type": "code",
   "execution_count": 1,
   "metadata": {
    "collapsed": true
   },
   "outputs": [
    {
     "name": "stderr",
     "output_type": "stream",
     "text": [
      "/Users/lucaswebb/.pyenv/versions/3.9.6/envs/ukraine/lib/python3.9/site-packages/pandas/compat/__init__.py:124: UserWarning: Could not import the lzma module. Your installed Python is incomplete. Attempting to use lzma compression will result in a RuntimeError.\n",
      "  warnings.warn(msg)\n"
     ]
    },
    {
     "ename": "ModuleNotFoundError",
     "evalue": "No module named 'numpy.typing._extended_precision'",
     "output_type": "error",
     "traceback": [
      "\u001B[0;31m---------------------------------------------------------------------------\u001B[0m",
      "\u001B[0;31mModuleNotFoundError\u001B[0m                       Traceback (most recent call last)",
      "\u001B[0;32m/var/folders/2m/pnw5mkds7jlbndvtgss60thc0000gn/T/ipykernel_26660/42153420.py\u001B[0m in \u001B[0;36m<module>\u001B[0;34m\u001B[0m\n\u001B[1;32m      5\u001B[0m \u001B[0;32mfrom\u001B[0m \u001B[0mnumpy\u001B[0m \u001B[0;32mimport\u001B[0m \u001B[0marange\u001B[0m\u001B[0;34m\u001B[0m\u001B[0;34m\u001B[0m\u001B[0m\n\u001B[1;32m      6\u001B[0m \u001B[0;32mfrom\u001B[0m \u001B[0mnumpy\u001B[0m\u001B[0;34m.\u001B[0m\u001B[0mrandom\u001B[0m \u001B[0;32mimport\u001B[0m \u001B[0mdefault_rng\u001B[0m\u001B[0;34m\u001B[0m\u001B[0;34m\u001B[0m\u001B[0m\n\u001B[0;32m----> 7\u001B[0;31m \u001B[0;32mfrom\u001B[0m \u001B[0mnumpy\u001B[0m\u001B[0;34m.\u001B[0m\u001B[0mtyping\u001B[0m\u001B[0;34m.\u001B[0m\u001B[0m_extended_precision\u001B[0m \u001B[0;32mimport\u001B[0m \u001B[0mfloat128\u001B[0m\u001B[0;34m\u001B[0m\u001B[0;34m\u001B[0m\u001B[0m\n\u001B[0m\u001B[1;32m      8\u001B[0m \u001B[0;32mfrom\u001B[0m \u001B[0mscipy\u001B[0m\u001B[0;34m.\u001B[0m\u001B[0moptimize\u001B[0m \u001B[0;32mimport\u001B[0m \u001B[0mminimize\u001B[0m\u001B[0;34m,\u001B[0m \u001B[0mBounds\u001B[0m\u001B[0;34m,\u001B[0m \u001B[0moptimize\u001B[0m\u001B[0;34m\u001B[0m\u001B[0;34m\u001B[0m\u001B[0m\n\u001B[1;32m      9\u001B[0m \u001B[0;32mfrom\u001B[0m \u001B[0mscipy\u001B[0m\u001B[0;34m.\u001B[0m\u001B[0moptimize\u001B[0m \u001B[0;32mimport\u001B[0m \u001B[0mbrute\u001B[0m\u001B[0;34m\u001B[0m\u001B[0;34m\u001B[0m\u001B[0m\n",
      "\u001B[0;31mModuleNotFoundError\u001B[0m: No module named 'numpy.typing._extended_precision'"
     ]
    }
   ],
   "source": [
    "import pandas as pd\n",
    "import matplotlib.pyplot as plt\n",
    "import scipy\n",
    "import numpy as np\n",
    "from numpy import arange\n",
    "from numpy.random import default_rng\n",
    "from numpy.typing._extended_precision import float128\n",
    "from scipy.optimize import minimize, Bounds, optimize\n",
    "from scipy.optimize import brute\n",
    "from skopt import gp_minimize\n",
    "import skopt.plots as skplt"
   ]
  },
  {
   "cell_type": "code",
   "execution_count": null,
   "metadata": {
    "pycharm": {
     "name": "#%%\n"
    }
   },
   "outputs": [],
   "source": [
    "# Read in data and clean it\n",
    "\n",
    "data2013 = pd.read_csv('2013_Events.csv')\n",
    "data2012 = pd.read_csv('2012_Events.csv')\n",
    "data2011 = pd.read_csv('2011_Events.csv')\n",
    "data20092010 = pd.read_csv('2009_2010_Events.csv')\n",
    "\n",
    "data2013 = data2013[['Event start date', 'Number of protesters', 'Location']]\n",
    "data2012 = data2012[['Event start date', 'Number of protesters', 'Location']]\n",
    "data2011 = data2011[['Event start date', 'Number of protesters', 'Location']]\n",
    "data20092010 = data20092010[['Event date', '# protester', 'Location']]\n",
    "data20092010.columns = ['Event start date', 'Number of protesters', 'Location']\n",
    "\n",
    "# Combine multiple years into one dataframe\n",
    "data = pd.concat([data2013, data2012, data2011, data20092010])\n",
    "\n",
    "# Sort by event date (descending)\n",
    "data['Event start date'] = pd.to_datetime(data['Event start date'])\n",
    "data = data.sort_values(by = 'Event start date')\n",
    "\n",
    "data_kyiv = data.loc[data['Location'] == 'Kyiv']\n",
    "\n",
    "data['Number of events'] = 0\n",
    "data['Number of protesters'] = pd.to_numeric(data['Number of protesters'], errors='coerce')\n",
    "\n",
    "data_kyiv['Number of events'] = 0\n",
    "data_kyiv['Number of protesters'] = pd.to_numeric(data_kyiv['Number of protesters'], errors='coerce')\n",
    "\n",
    "# Combine entries that occur on the same date and sum the number of protesters\n",
    "data = data.groupby(data['Event start date']).aggregate({'Number of events': 'size', 'Number of protesters': 'sum'})\n",
    "data_kyiv = data_kyiv.groupby(data_kyiv['Event start date']).aggregate({'Number of events': 'size', 'Number of protesters': 'sum'})"
   ]
  },
  {
   "cell_type": "code",
   "execution_count": null,
   "outputs": [],
   "source": [
    "data.tail()"
   ],
   "metadata": {
    "collapsed": false,
    "pycharm": {
     "name": "#%%\n"
    }
   }
  },
  {
   "cell_type": "code",
   "execution_count": null,
   "outputs": [],
   "source": [
    "plt.figure(figsize=(20,10))\n",
    "plt.plot(data_kyiv['Number of events'].rolling(10).mean(), label='data')"
   ],
   "metadata": {
    "collapsed": false,
    "pycharm": {
     "name": "#%%\n"
    }
   }
  },
  {
   "cell_type": "code",
   "execution_count": null,
   "metadata": {
    "pycharm": {
     "name": "#%%\n"
    }
   },
   "outputs": [],
   "source": [
    "# Define function to calculate background activity level\n",
    "\n",
    "def calculateN0(df, sigma, deltaT):\n",
    "    return df['Number of events'].rolling(window=deltaT, win_type=\"gaussian\", center=True).mean(std=sigma)\n",
    "    # N0 is Null for the first and last deltaT/2 values"
   ]
  },
  {
   "cell_type": "code",
   "execution_count": null,
   "metadata": {
    "pycharm": {
     "name": "#%%\n"
    }
   },
   "outputs": [],
   "source": [
    "# Plot data and N0\n",
    "plt.figure(figsize=(20,10))\n",
    "plt.plot(data['Number of events'].rolling(10).mean(), label='data')\n",
    "plt.plot(calculateN0(data, 360, 120), label='baseline')"
   ]
  },
  {
   "cell_type": "code",
   "execution_count": null,
   "outputs": [],
   "source": [
    "print(MSE(data['Number of events'], calculateN0(data, 20, 10)))"
   ],
   "metadata": {
    "collapsed": false,
    "pycharm": {
     "name": "#%%\n"
    }
   }
  },
  {
   "cell_type": "code",
   "execution_count": null,
   "metadata": {
    "pycharm": {
     "name": "#%%\n"
    }
   },
   "outputs": [],
   "source": [
    "# Define a function to create a new dataframe to be used in simulation\n",
    "\n",
    "def createSimulationDF(df, sigma, deltaT):\n",
    "    data1 = df.copy()\n",
    "    data1['N0'] = calculateN0(data1, sigma, deltaT)\n",
    "    data1['simulated'] = 0\n",
    "    data1.reset_index(inplace=True)\n",
    "    data1['Event start date'] = pd.to_numeric(pd.to_datetime(data1['Event start date']))\n",
    "    data1 = data1[int(deltaT/2):int(-deltaT/2-1)]\n",
    "    data1['simulated'][int(deltaT/2)] = 1\n",
    "    return data1"
   ]
  },
  {
   "cell_type": "code",
   "execution_count": null,
   "metadata": {
    "pycharm": {
     "name": "#%%\n"
    }
   },
   "outputs": [],
   "source": [
    "# Define helper function to create simulated data\n",
    "\n",
    "def simulaterHelper(x, args):\n",
    "    arr = x[-1]\n",
    "    d = (-x[:-1,0]/86400 + arr[0]/86400)/1000000000\n",
    "    psum = x[:-1,1] * (np.exp((-(d-1))/args[0][1]) - np.exp(-d/args[0][1]))\n",
    "    # arr[4] = np.random.poisson(arr[3] + args[0][0]*psum.sum(), 1)[0]\n",
    "    # if arr[4] == 0:\n",
    "    #     arr[4] = 1\n",
    "    arr[4] = arr[3] + args[0][0]*psum.sum()\n",
    "    # arr[4] = psum.sum()\n",
    "    # arr[4] = d.sum()\n",
    "    return arr"
   ]
  },
  {
   "cell_type": "code",
   "execution_count": null,
   "metadata": {
    "pycharm": {
     "name": "#%%\n"
    }
   },
   "outputs": [],
   "source": [
    "# Define function to create simulated data given simulationDF (to be used when fitting Nsec and Texcite)\n",
    "\n",
    "def simulate(df, Nsec, Texcite):\n",
    "    simulated_data = df.expanding(method=\"table\").apply(simulaterHelper, Nsec, Texcite, raw=True, engine=\"numba\")\n",
    "    # simulated_data['Event start date'] = pd.to_datetime(simulated_data['Event start date'])\n",
    "    return simulated_data"
   ]
  },
  {
   "cell_type": "code",
   "execution_count": null,
   "metadata": {
    "pycharm": {
     "name": "#%%\n"
    }
   },
   "outputs": [],
   "source": [
    "simulationDF = createSimulationDF(data, 360, 120)"
   ]
  },
  {
   "cell_type": "code",
   "execution_count": null,
   "outputs": [],
   "source": [
    "simulated = simulate(simulationDF, 0.1, 0.1)"
   ],
   "metadata": {
    "collapsed": false,
    "pycharm": {
     "name": "#%%\n"
    }
   }
  },
  {
   "cell_type": "code",
   "execution_count": null,
   "metadata": {
    "pycharm": {
     "name": "#%%\n"
    }
   },
   "outputs": [],
   "source": [
    "simulated.head()"
   ]
  },
  {
   "cell_type": "code",
   "execution_count": null,
   "metadata": {
    "pycharm": {
     "name": "#%%\n"
    }
   },
   "outputs": [],
   "source": [
    "plt.figure(figsize=(20,10))\n",
    "plt.plot(simulated['Number of events'].rolling(10).mean(), label='data')\n",
    "plt.plot(simulated['simulated'].rolling(10).mean(), label='model')"
   ]
  },
  {
   "cell_type": "code",
   "execution_count": null,
   "metadata": {
    "pycharm": {
     "name": "#%%\n"
    }
   },
   "outputs": [],
   "source": [
    "# Loss and error functions\n",
    "def computeLoss(model, actual):\n",
    "    return (model - (actual * np.log(model))).sum()\n",
    "\n",
    "def MSE(model, actual):\n",
    "    return np.power((actual - model).sum(), 2).sum() / len(actual)"
   ]
  },
  {
   "cell_type": "code",
   "execution_count": null,
   "metadata": {
    "pycharm": {
     "name": "#%%\n"
    }
   },
   "outputs": [],
   "source": [
    "print(computeLoss(simulated['simulated'], simulated['Number of events']))\n",
    "print(MSE(simulated['simulated'], simulated['Number of events']))\n"
   ]
  },
  {
   "cell_type": "code",
   "execution_count": null,
   "metadata": {
    "pycharm": {
     "name": "#%%\n"
    }
   },
   "outputs": [],
   "source": [
    "def functionToMinimize(x):\n",
    "    sim = simulate(simulationDF, x[0], x[1])\n",
    "    return computeLoss(sim['simulated'].astype(np.longdouble), sim['Number of events'].astype(np.longdouble))"
   ]
  },
  {
   "cell_type": "code",
   "execution_count": null,
   "metadata": {
    "pycharm": {
     "name": "#%%\n"
    }
   },
   "outputs": [],
   "source": [
    "x0 = [0.174, 9.9]\n",
    "# res = minimize(functionToMinimize, x0, method = 'Nelder-Mead', options={'maxiter': 10})\n",
    "res = brute(functionToMinimize, (slice(0.01, 0.9, 0.01), slice(0.1, 10, 1)), finish=None)#, full_output=True)\n",
    "# , options={'maxiter': 1000}\n",
    "# res = minimize(functionToMinimize, x0)\n",
    "print(res)"
   ]
  },
  {
   "cell_type": "code",
   "execution_count": null,
   "metadata": {
    "pycharm": {
     "name": "#%%\n"
    }
   },
   "outputs": [],
   "source": [
    "# Compare baseline with baseline + contagion\n",
    "\n",
    "print(computeLoss(simulated['simulated'], simulated['Number of events']))\n",
    "print(computeLoss(simulated['N0'], simulated['Number of events']))"
   ]
  },
  {
   "cell_type": "code",
   "execution_count": null,
   "metadata": {
    "pycharm": {
     "name": "#%%\n"
    }
   },
   "outputs": [],
   "source": [
    "# Lets try fitting a 3 parameter model with a constant baseline background\n",
    "\n",
    "pd.options.mode.chained_assignment = None  # default='warn'\n",
    "def createSimulationDF2(df, n):\n",
    "    data1 = df.copy()\n",
    "    data1['N0'] = n\n",
    "    data1['simulated'] = 0\n",
    "    data1.reset_index(inplace=True)\n",
    "    data1['Event start date'] = pd.to_numeric(pd.to_datetime(data1['Event start date']))\n",
    "    data1['simulated'][0] = 1\n",
    "    return data1\n",
    "\n",
    "def functionToMinimize2(x):\n",
    "    sim = simulate(createSimulationDF2(data, x[2]), x[0], x[1])\n",
    "    return computeLoss(sim['simulated'].astype(np.longdouble), sim['Number of events'].astype(np.longdouble))"
   ]
  },
  {
   "cell_type": "code",
   "execution_count": null,
   "outputs": [],
   "source": [
    "x0 = [0.174, 9.9, 10]\n",
    "res = minimize(functionToMinimize2, x0, method = 'Nelder-Mead', options={'maxiter': 10})\n",
    "# , options={'maxiter': 1000}\n",
    "# res = minimize(functionToMinimize, x0)\n",
    "print(res)"
   ],
   "metadata": {
    "collapsed": false,
    "pycharm": {
     "name": "#%%\n"
    }
   }
  },
  {
   "cell_type": "code",
   "execution_count": null,
   "outputs": [],
   "source": [
    "# Lets just look at Euromaiden (started November 21st 2013)\n",
    "\n",
    "data_2013 = data.loc['2013-11-16':]"
   ],
   "metadata": {
    "collapsed": false,
    "pycharm": {
     "name": "#%%\n"
    }
   }
  },
  {
   "cell_type": "code",
   "execution_count": null,
   "outputs": [],
   "source": [
    "# Find average number of events per day up until Euromaiden\n",
    "data.loc[:'2013-11-01']['Number of events'].mean()\n",
    "# 11.56694560669456"
   ],
   "metadata": {
    "collapsed": false,
    "pycharm": {
     "name": "#%%\n"
    }
   }
  },
  {
   "cell_type": "code",
   "execution_count": null,
   "outputs": [],
   "source": [
    "# Look at constant background model\n",
    "data_2013N0 = createSimulationDF2(data_2013, 3.25)\n",
    "\n",
    "# Plot data and N0\n",
    "plt.figure(figsize=(20,10))\n",
    "plt.plot(data_2013N0['Number of events'], label='data')\n",
    "plt.plot(data_2013N0['N0'], label='background')"
   ],
   "metadata": {
    "collapsed": false,
    "pycharm": {
     "name": "#%%\n"
    }
   }
  },
  {
   "cell_type": "code",
   "execution_count": null,
   "outputs": [],
   "source": [
    "data_2013N0.shape[0]"
   ],
   "metadata": {
    "collapsed": false,
    "pycharm": {
     "name": "#%%\n"
    }
   }
  },
  {
   "cell_type": "code",
   "execution_count": null,
   "outputs": [],
   "source": [
    "simulationDF = data_2013N0"
   ],
   "metadata": {
    "collapsed": false,
    "pycharm": {
     "name": "#%%\n"
    }
   }
  },
  {
   "cell_type": "code",
   "execution_count": null,
   "outputs": [],
   "source": [
    "%%timeit\n",
    "sim = simulate(simulationDF, 0.63, 1.76)"
   ],
   "metadata": {
    "collapsed": false,
    "pycharm": {
     "name": "#%%\n"
    }
   }
  },
  {
   "cell_type": "code",
   "execution_count": null,
   "outputs": [],
   "source": [
    "simulationDF = data_2013N0\n",
    "x0 = [0.76, 1.1]\n",
    "# res = minimize(functionToMinimize, x0, method = 'Nelder-Mead', options={'maxiter': 10})\n",
    "res = brute(functionToMinimize, (slice(0.01, 0.9, 0.01), slice(0.1, 15, 1)), finish=minimize)\n",
    "print(res)\n",
    "# 0.71725041, 1.22031264 after 100000 iterations"
   ],
   "metadata": {
    "collapsed": false,
    "pycharm": {
     "name": "#%%\n"
    }
   }
  },
  {
   "cell_type": "code",
   "execution_count": null,
   "outputs": [],
   "source": [
    "simulated = simulate(simulationDF, res[0], res[1])\n",
    "\n",
    "plt.figure(figsize=(20,10))\n",
    "plt.plot(simulated['Number of events'], label='data')\n",
    "plt.plot(simulated['simulated'], label='model')\n",
    "\n",
    "print(computeLoss(simulated['Number of events'], simulated['Number of events']))\n",
    "print(computeLoss(simulated['simulated'], simulated['Number of events']))\n",
    "print(computeLoss(simulated['N0'], simulated['Number of events']))"
   ],
   "metadata": {
    "collapsed": false,
    "pycharm": {
     "name": "#%%\n"
    }
   }
  },
  {
   "cell_type": "code",
   "execution_count": null,
   "outputs": [],
   "source": [
    "# Apply weighted average background model to Euromaiden\n",
    "\n",
    "data_2013N0 = createSimulationDF(data_2013, 300, 20)\n",
    "\n",
    "# Plot data and N0\n",
    "plt.figure(figsize=(20,10))\n",
    "plt.plot(data_2013N0['Number of events'], label='data')\n",
    "plt.plot(data_2013N0['N0'], label='background')"
   ],
   "metadata": {
    "collapsed": false,
    "pycharm": {
     "name": "#%%\n"
    }
   }
  },
  {
   "cell_type": "code",
   "execution_count": null,
   "outputs": [],
   "source": [
    "data_2013N0.head()"
   ],
   "metadata": {
    "collapsed": false,
    "pycharm": {
     "name": "#%%\n"
    }
   }
  },
  {
   "cell_type": "code",
   "execution_count": null,
   "outputs": [],
   "source": [
    "simulationDF = data_2013N0\n",
    "x0 = [0.76, 7]\n",
    "# res = minimize(functionToMinimize, x0, method = 'Nelder-Mead', options={'maxiter': 20000})\n",
    "res = brute(functionToMinimize, (slice(0.01, 0.9, 0.01), slice(0.1, 5, 0.1)), finish=None)#, full_output=True)\n",
    "print(res)"
   ],
   "metadata": {
    "collapsed": false,
    "pycharm": {
     "name": "#%%\n"
    }
   }
  },
  {
   "cell_type": "code",
   "execution_count": null,
   "outputs": [],
   "source": [
    "simulated = simulate(simulationDF, res[0], res[1])\n",
    "\n",
    "plt.figure(figsize=(20,10))\n",
    "plt.plot(simulated['Number of events'], label='data')\n",
    "plt.plot(simulated['simulated'], label='model')\n",
    "\n",
    "print(computeLoss(simulated['simulated'], simulated['Number of events']))\n",
    "print(computeLoss(simulated['N0'], simulated['Number of events']))"
   ],
   "metadata": {
    "collapsed": false,
    "pycharm": {
     "name": "#%%\n"
    }
   }
  },
  {
   "cell_type": "code",
   "execution_count": null,
   "outputs": [],
   "source": [
    "simulated2 = simulate(simulationDF, 0.06, 0.1)\n",
    "\n",
    "plt.figure(figsize=(20,10))\n",
    "plt.plot(simulated2['Number of events'], label='data')\n",
    "plt.plot(simulated2['simulated'], label='model')"
   ],
   "metadata": {
    "collapsed": false,
    "pycharm": {
     "name": "#%%\n"
    }
   }
  },
  {
   "cell_type": "code",
   "execution_count": null,
   "outputs": [],
   "source": [
    "# Look at entire dataset with baseline\n",
    "simulationDF = createSimulationDF2(data, 12)\n",
    "\n",
    "plt.figure(figsize=(20,10))\n",
    "plt.plot(simulationDF['Number of events'].rolling(10).mean(), label='data')\n",
    "plt.plot(simulationDF['N0'], label='baseline')"
   ],
   "metadata": {
    "collapsed": false,
    "pycharm": {
     "name": "#%%\n"
    }
   }
  },
  {
   "cell_type": "code",
   "execution_count": null,
   "outputs": [],
   "source": [
    "res = brute(functionToMinimize, (slice(0.01, 0.4, 0.01), slice(0.1, 10, 0.1)), finish=None)#, full_output=True)\n",
    "print(res)"
   ],
   "metadata": {
    "collapsed": false,
    "pycharm": {
     "name": "#%%\n"
    }
   }
  },
  {
   "cell_type": "code",
   "execution_count": null,
   "outputs": [],
   "source": [
    "simulated = simulate(simulationDF, res[0], res[1])\n",
    "\n",
    "plt.figure(figsize=(20,10))\n",
    "plt.plot(simulated['Number of events'].rolling(10).mean(), label='data')\n",
    "plt.plot(simulated['simulated'].rolling(10).mean(), label='model')"
   ],
   "metadata": {
    "collapsed": false,
    "pycharm": {
     "name": "#%%\n"
    }
   }
  },
  {
   "cell_type": "code",
   "execution_count": null,
   "outputs": [],
   "source": [
    "print(computeLoss(simulated['simulated'], simulated['Number of events']))\n",
    "print(computeLoss(simulated['N0'], simulated['Number of events']))"
   ],
   "metadata": {
    "collapsed": false,
    "pycharm": {
     "name": "#%%\n"
    }
   }
  },
  {
   "cell_type": "code",
   "execution_count": null,
   "outputs": [],
   "source": [
    "# Look just at Kyiv\n",
    "\n",
    "kyiv_N0 = createSimulationDF(data_kyiv, 300, 100)\n",
    "\n",
    "# Plot data and N0\n",
    "plt.figure(figsize=(20,10))\n",
    "plt.plot(kyiv_N0['Number of events'].rolling(10).mean(), label='data')\n",
    "plt.plot(kyiv_N0['N0'], label='background')"
   ],
   "metadata": {
    "collapsed": false,
    "pycharm": {
     "name": "#%%\n"
    }
   }
  },
  {
   "cell_type": "code",
   "execution_count": null,
   "outputs": [],
   "source": [
    "simulationDF = kyiv_N0\n",
    "res = brute(functionToMinimize, (slice(0.01, 0.9, 0.01), slice(0.1, 15, 1)), finish=None)#, full_output=True)\n",
    "print(res)"
   ],
   "metadata": {
    "collapsed": false,
    "pycharm": {
     "name": "#%%\n"
    }
   }
  },
  {
   "cell_type": "code",
   "execution_count": null,
   "outputs": [],
   "source": [
    "simulated = simulate(simulationDF, res[0], res[1])\n",
    "\n",
    "plt.figure(figsize=(20,10))\n",
    "plt.plot(simulated['Number of events'].rolling(10).mean(), label='data')\n",
    "plt.plot((simulated['simulated']).rolling(10).mean(), label='model')\n",
    "\n",
    "print(computeLoss(simulated['Number of events'], simulated['Number of events']))\n",
    "print(computeLoss(simulated['simulated'], simulated['Number of events']))\n",
    "print(computeLoss(simulated['N0'], simulated['Number of events']))\n"
   ],
   "metadata": {
    "collapsed": false,
    "pycharm": {
     "name": "#%%\n"
    }
   }
  },
  {
   "cell_type": "code",
   "execution_count": null,
   "outputs": [],
   "source": [
    "simulated.tail()"
   ],
   "metadata": {
    "collapsed": false,
    "pycharm": {
     "name": "#%%\n"
    }
   }
  },
  {
   "cell_type": "code",
   "execution_count": null,
   "outputs": [],
   "source": [
    "data_kyiv['Number of events'].mean()\n"
   ],
   "metadata": {
    "collapsed": false,
    "pycharm": {
     "name": "#%%\n"
    }
   }
  },
  {
   "cell_type": "code",
   "execution_count": null,
   "outputs": [],
   "source": [
    "# Kyiv with constant background\n",
    "\n",
    "kyiv_N0 = createSimulationDF2(data_kyiv, 3.25)\n",
    "\n",
    "# Plot data and N0\n",
    "plt.figure(figsize=(20,10))\n",
    "plt.plot(kyiv_N0['Number of events'].rolling(10).mean(), label='data')\n",
    "plt.plot(kyiv_N0['N0'], label='background')"
   ],
   "metadata": {
    "collapsed": false,
    "pycharm": {
     "name": "#%%\n"
    }
   }
  },
  {
   "cell_type": "code",
   "execution_count": null,
   "outputs": [],
   "source": [
    "simulationDF = kyiv_N0\n",
    "res = brute(functionToMinimize, (slice(0.01, 0.5, 0.01), slice(0.1, 5, 0.1)), finish=None)#, full_output=True)\n",
    "print(res)\n",
    "#[0.19325032 2.09839541]"
   ],
   "metadata": {
    "collapsed": false,
    "pycharm": {
     "name": "#%%\n"
    }
   }
  },
  {
   "cell_type": "code",
   "execution_count": null,
   "outputs": [],
   "source": [
    "simulated = simulate(simulationDF, 0.19, 2.1)\n",
    "\n",
    "plt.figure(figsize=(20,10))\n",
    "plt.plot(simulated['Number of events'].rolling(10).mean(), label='data')\n",
    "plt.plot(simulated['simulated'].rolling(10).mean(), label='model')\n",
    "\n",
    "print(computeLoss(simulated['Number of events'], simulated['Number of events']))\n",
    "print(computeLoss(simulated['simulated'], simulated['Number of events']))\n",
    "print(computeLoss(simulated['N0'], simulated['Number of events']))"
   ],
   "metadata": {
    "collapsed": false,
    "pycharm": {
     "name": "#%%\n"
    }
   }
  },
  {
   "cell_type": "code",
   "execution_count": null,
   "outputs": [],
   "source": [
    "simulated.head()"
   ],
   "metadata": {
    "collapsed": false,
    "pycharm": {
     "name": "#%%\n"
    }
   }
  },
  {
   "cell_type": "code",
   "execution_count": null,
   "outputs": [],
   "source": [
    "# Test the predictive power of constant baseline in kyiv\n",
    "# Train on the first half\n",
    "kyiv_N0 = createSimulationDF2(data_kyiv.loc[:'2012-01-01'], data_kyiv.loc[:'2012-01-01']['Number of events'].mean())\n",
    "simulationDF = kyiv_N0\n",
    "res = brute(functionToMinimize, (slice(0.01, 0.5, 0.01), slice(0.1, 5, 0.1)), finish=None)#, full_output=True)\n",
    "print(res)"
   ],
   "metadata": {
    "collapsed": false,
    "pycharm": {
     "name": "#%%\n"
    }
   }
  },
  {
   "cell_type": "code",
   "execution_count": null,
   "outputs": [],
   "source": [
    "simulated = simulate(simulationDF, res[0], res[1])\n",
    "\n",
    "plt.figure(figsize=(20,10))\n",
    "plt.plot(simulated['Number of events'].rolling(10).mean(), label='data')\n",
    "plt.plot(simulated['simulated'].rolling(10).mean(), label='model')\n",
    "\n",
    "print(computeLoss(simulated['simulated'], simulated['Number of events']))\n",
    "print(computeLoss(simulated['N0'], simulated['Number of events']))"
   ],
   "metadata": {
    "collapsed": false,
    "pycharm": {
     "name": "#%%\n"
    }
   }
  },
  {
   "cell_type": "code",
   "execution_count": null,
   "outputs": [],
   "source": [
    "# Test on the second half\n",
    "kyiv_N0 = createSimulationDF2(data_kyiv.loc['2012-01-01':], data_kyiv.loc['2012-01-01':]['Number of events'].mean())\n",
    "simulationDF = kyiv_N0\n",
    "simulated = simulate(simulationDF, res[0], res[1])\n",
    "\n",
    "plt.figure(figsize=(20,10))\n",
    "plt.plot(simulated['Number of events'].rolling(10).mean(), label='data')\n",
    "plt.plot(simulated['simulated'].rolling(10).mean(), label='model')\n",
    "\n",
    "print(computeLoss(simulated['simulated'], simulated['Number of events']))\n",
    "print(computeLoss(simulated['N0'], simulated['Number of events']))"
   ],
   "metadata": {
    "collapsed": false,
    "pycharm": {
     "name": "#%%\n"
    }
   }
  },
  {
   "cell_type": "code",
   "execution_count": null,
   "outputs": [],
   "source": [
    "# Look at just euromaiden with constant background to compare with distance model and verify models produce same output\n",
    "\n",
    "toCompare = data_kyiv.loc['2013-11-16':]\n",
    "\n",
    "index = pd.date_range('2013-11-16','2013-12-31')\n",
    "toCompare = toCompare.reindex(index, fill_value=0.0)\n",
    "toCompare = toCompare.reset_index()\n",
    "del toCompare['index']\n",
    "\n",
    "def l2Error(simulated, actual):\n",
    "    return np.power(actual - simulated, 2).sum()\n",
    "\n",
    "def functionToMinimize3(params):\n",
    "    sim = simulate(simulationDF, params[0], params[1])\n",
    "    return l2Error(sim['simulated'], toCompare['Number of events'])"
   ],
   "metadata": {
    "collapsed": false,
    "pycharm": {
     "name": "#%%\n"
    }
   }
  },
  {
   "cell_type": "code",
   "execution_count": null,
   "outputs": [],
   "source": [
    "data_2013N0 = createSimulationDF2(data_2013, 3.25)\n",
    "simulationDF = data_2013N0"
   ],
   "metadata": {
    "collapsed": false,
    "pycharm": {
     "name": "#%%\n"
    }
   }
  },
  {
   "cell_type": "code",
   "execution_count": null,
   "outputs": [],
   "source": [
    "functionToMinimize3([0.1, 1])"
   ],
   "metadata": {
    "collapsed": false,
    "pycharm": {
     "name": "#%%\n"
    }
   }
  },
  {
   "cell_type": "code",
   "execution_count": null,
   "outputs": [],
   "source": [
    "sim = simulate(simulationDF, 0.1, 1)\n",
    "plt.figure(figsize=(20,10))\n",
    "plt.plot(sim['simulated'], label='model')\n",
    "plt.plot(sim['N0'], label='background')\n",
    "plt.plot(toCompare['Number of events'], label='data')\n",
    "plt.legend()"
   ],
   "metadata": {
    "collapsed": false,
    "pycharm": {
     "name": "#%%\n"
    }
   }
  },
  {
   "cell_type": "code",
   "execution_count": null,
   "outputs": [],
   "source": [
    "sim.head()\n"
   ],
   "metadata": {
    "collapsed": false,
    "pycharm": {
     "name": "#%%\n"
    }
   }
  },
  {
   "cell_type": "code",
   "execution_count": null,
   "outputs": [],
   "source": [
    "%%time\n",
    "res = gp_minimize(functionToMinimize3, [(0.0, 1.0), (0.0001, 20.0)], n_calls=25, noise=1e-10, n_initial_points=1, random_state=123)"
   ],
   "metadata": {
    "collapsed": false,
    "pycharm": {
     "name": "#%%\n"
    }
   }
  },
  {
   "cell_type": "code",
   "execution_count": null,
   "outputs": [],
   "source": [
    "res.x"
   ],
   "metadata": {
    "collapsed": false,
    "pycharm": {
     "name": "#%%\n"
    }
   }
  },
  {
   "cell_type": "code",
   "execution_count": null,
   "outputs": [],
   "source": [
    "res.fun"
   ],
   "metadata": {
    "collapsed": false,
    "pycharm": {
     "name": "#%%\n"
    }
   }
  },
  {
   "cell_type": "code",
   "execution_count": null,
   "outputs": [],
   "source": [
    "sim = simulate(simulationDF, res.x[0], res.x[1])\n",
    "plt.figure(figsize=(20,10))\n",
    "plt.plot(sim['simulated'], label='model')\n",
    "plt.plot(sim['N0'], label='background')\n",
    "plt.plot(toCompare['Number of events'], label='data')\n",
    "plt.legend()"
   ],
   "metadata": {
    "collapsed": false,
    "pycharm": {
     "name": "#%%\n"
    }
   }
  },
  {
   "cell_type": "code",
   "execution_count": null,
   "outputs": [],
   "source": [
    "skplt.plot_convergence(res);\n",
    "skplt.plot_objective(res);\n",
    "skplt.plot_evaluations(res);"
   ],
   "metadata": {
    "collapsed": false,
    "pycharm": {
     "name": "#%%\n"
    }
   }
  },
  {
   "cell_type": "code",
   "execution_count": null,
   "outputs": [],
   "source": [],
   "metadata": {
    "collapsed": false,
    "pycharm": {
     "name": "#%%\n"
    }
   }
  }
 ],
 "metadata": {
  "kernelspec": {
   "display_name": "Python 3",
   "language": "python",
   "name": "python3"
  },
  "language_info": {
   "codemirror_mode": {
    "name": "ipython",
    "version": 3
   },
   "file_extension": ".py",
   "mimetype": "text/x-python",
   "name": "python",
   "nbconvert_exporter": "python",
   "pygments_lexer": "ipython3",
   "version": "3.7.7"
  }
 },
 "nbformat": 4,
 "nbformat_minor": 1
}