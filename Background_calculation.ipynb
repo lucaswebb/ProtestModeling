{
 "cells": [
  {
   "cell_type": "code",
   "execution_count": 1,
   "outputs": [],
   "source": [
    "import pandas as pd"
   ],
   "metadata": {
    "collapsed": false,
    "pycharm": {
     "name": "#%%\n"
    }
   }
  },
  {
   "cell_type": "code",
   "execution_count": 2,
   "metadata": {
    "collapsed": true
   },
   "outputs": [],
   "source": [
    "data2013 = pd.read_csv('2013_Events.csv')\n",
    "data2012 = pd.read_csv('2012_Events.csv')\n",
    "data2011 = pd.read_csv('2011_Events.csv')\n",
    "data20092010 = pd.read_csv('2009_2010_Events.csv')\n",
    "\n",
    "data2013 = data2013[['Event start date', 'Number of protesters', 'Oblast']]\n",
    "data2012 = data2012[['Event start date', 'Number of protesters', 'Oblast']]\n",
    "data2011 = data2011[['Event start date', 'Number of protesters', 'Oblast']]\n",
    "data20092010 = data20092010[['Event date', '# protester', 'Oblast']]\n",
    "data20092010.columns = ['Event start date', 'Number of protesters', 'Oblast']\n",
    "\n",
    "# Combine multiple years into one dataframe\n",
    "data = pd.concat([data2013, data2012, data2011, data20092010])\n",
    "\n",
    "# Sort by event date (descending)\n",
    "data['Event start date'] = pd.to_datetime(data['Event start date'])\n",
    "data = data.sort_values(by = 'Event start date')\n",
    "\n",
    "data['Number of events'] = 0\n",
    "data['Number of protesters'] = pd.to_numeric(data['Number of protesters'], errors='coerce')"
   ]
  },
  {
   "cell_type": "code",
   "execution_count": 6,
   "outputs": [
    {
     "data": {
      "text/plain": "19644"
     },
     "execution_count": 6,
     "metadata": {},
     "output_type": "execute_result"
    }
   ],
   "source": [
    "data.shape[0]"
   ],
   "metadata": {
    "collapsed": false,
    "pycharm": {
     "name": "#%%\n"
    }
   }
  },
  {
   "cell_type": "code",
   "execution_count": 7,
   "outputs": [],
   "source": [
    "data = data.loc[data['Event start date'] < '2013-11-16']"
   ],
   "metadata": {
    "collapsed": false,
    "pycharm": {
     "name": "#%%\n"
    }
   }
  },
  {
   "cell_type": "code",
   "execution_count": 18,
   "outputs": [],
   "source": [
    "oblasts = ['Chernihiv', 'Donetsk', 'Ivano-Frankivsk', 'Kirovohrad', 'Kyiv', 'Lviv',\n",
    "           'Mykolaiv', 'Odesa', 'Sumy', 'Vinnytsia', 'Zaporizhzhia', 'Crimea', 'Kharkiv',\n",
    "           'Rivne', 'Luhansk', 'Cherkasy', 'Chernivtsi', 'Poltava', 'Zhytomyr', 'Lutsk',\n",
    "           'Uzhhorod', 'Dnipropetrovsk', 'Kherson', 'Khmelnytskyi', 'Ternopil']"
   ],
   "metadata": {
    "collapsed": false,
    "pycharm": {
     "name": "#%%\n"
    }
   }
  },
  {
   "cell_type": "code",
   "execution_count": 29,
   "outputs": [
    {
     "data": {
      "text/plain": "     Event start date  Number of protesters      Oblast  Number of events\n2702       2013-11-15                   NaN        Kyiv                 0\n3486       2013-11-15                   NaN     Kherson                 0\n3310       2013-11-15                   NaN  Kirovohrad                 0\n525        2013-11-15                   NaN      Crimea                 0\n3311       2013-11-15                   NaN  Kirovohrad                 0",
      "text/html": "<div>\n<style scoped>\n    .dataframe tbody tr th:only-of-type {\n        vertical-align: middle;\n    }\n\n    .dataframe tbody tr th {\n        vertical-align: top;\n    }\n\n    .dataframe thead th {\n        text-align: right;\n    }\n</style>\n<table border=\"1\" class=\"dataframe\">\n  <thead>\n    <tr style=\"text-align: right;\">\n      <th></th>\n      <th>Event start date</th>\n      <th>Number of protesters</th>\n      <th>Oblast</th>\n      <th>Number of events</th>\n    </tr>\n  </thead>\n  <tbody>\n    <tr>\n      <th>2702</th>\n      <td>2013-11-15</td>\n      <td>NaN</td>\n      <td>Kyiv</td>\n      <td>0</td>\n    </tr>\n    <tr>\n      <th>3486</th>\n      <td>2013-11-15</td>\n      <td>NaN</td>\n      <td>Kherson</td>\n      <td>0</td>\n    </tr>\n    <tr>\n      <th>3310</th>\n      <td>2013-11-15</td>\n      <td>NaN</td>\n      <td>Kirovohrad</td>\n      <td>0</td>\n    </tr>\n    <tr>\n      <th>525</th>\n      <td>2013-11-15</td>\n      <td>NaN</td>\n      <td>Crimea</td>\n      <td>0</td>\n    </tr>\n    <tr>\n      <th>3311</th>\n      <td>2013-11-15</td>\n      <td>NaN</td>\n      <td>Kirovohrad</td>\n      <td>0</td>\n    </tr>\n  </tbody>\n</table>\n</div>"
     },
     "execution_count": 29,
     "metadata": {},
     "output_type": "execute_result"
    }
   ],
   "source": [
    "data.tail()"
   ],
   "metadata": {
    "collapsed": false,
    "pycharm": {
     "name": "#%%\n"
    }
   }
  },
  {
   "cell_type": "code",
   "execution_count": 33,
   "outputs": [],
   "source": [
    "background_dict = {}"
   ],
   "metadata": {
    "collapsed": false,
    "pycharm": {
     "name": "#%%\n"
    }
   }
  },
  {
   "cell_type": "code",
   "execution_count": 34,
   "outputs": [],
   "source": [
    "for oblast in sorted(oblasts):\n",
    "    background_dict[oblast] = data.loc[data['Oblast'] == oblast].shape[0]/1507"
   ],
   "metadata": {
    "collapsed": false,
    "pycharm": {
     "name": "#%%\n"
    }
   }
  },
  {
   "cell_type": "code",
   "execution_count": 35,
   "outputs": [
    {
     "name": "stdout",
     "output_type": "stream",
     "text": [
      "{'Cherkasy': 0.30789648307896483, 'Chernihiv': 0.20305242203052423, 'Chernivtsi': 0.19177173191771732, 'Crimea': 0.7040477770404777, 'Dnipropetrovsk': 0.3158593231585932, 'Donetsk': 0.5693430656934306, 'Ivano-Frankivsk': 0.3297942932979429, 'Kharkiv': 0.8467153284671532, 'Kherson': 0.24220305242203052, 'Khmelnytskyi': 0.11811546118115461, 'Kirovohrad': 0.05308560053085601, 'Kyiv': 2.18978102189781, 'Luhansk': 0.2581287325812873, 'Lutsk': 0.2667551426675514, 'Lviv': 0.927007299270073, 'Mykolaiv': 0.53085600530856, 'Odesa': 0.8566688785666888, 'Poltava': 0.2541473125414731, 'Rivne': 0.16257465162574652, 'Sumy': 0.192435301924353, 'Ternopil': 0.3729263437292634, 'Uzhhorod': 0.08294625082946251, 'Vinnytsia': 0.20437956204379562, 'Zaporizhzhia': 0.08294625082946251, 'Zhytomyr': 0.26940942269409424}\n"
     ]
    }
   ],
   "source": [
    "print(background_dict)"
   ],
   "metadata": {
    "collapsed": false,
    "pycharm": {
     "name": "#%%\n"
    }
   }
  },
  {
   "cell_type": "code",
   "execution_count": null,
   "outputs": [],
   "source": [],
   "metadata": {
    "collapsed": false,
    "pycharm": {
     "name": "#%%\n"
    }
   }
  }
 ],
 "metadata": {
  "kernelspec": {
   "display_name": "Python 3",
   "language": "python",
   "name": "python3"
  },
  "language_info": {
   "codemirror_mode": {
    "name": "ipython",
    "version": 2
   },
   "file_extension": ".py",
   "mimetype": "text/x-python",
   "name": "python",
   "nbconvert_exporter": "python",
   "pygments_lexer": "ipython2",
   "version": "2.7.6"
  }
 },
 "nbformat": 4,
 "nbformat_minor": 0
}