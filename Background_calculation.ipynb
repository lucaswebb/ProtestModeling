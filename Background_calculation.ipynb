{
 "cells": [
  {
   "cell_type": "code",
   "execution_count": 1,
   "metadata": {
    "pycharm": {
     "name": "#%%\n"
    }
   },
   "outputs": [
    {
     "name": "stderr",
     "output_type": "stream",
     "text": [
      "/Users/lucaswebb/.pyenv/versions/3.9.6/envs/ukraine/lib/python3.9/site-packages/pandas/compat/__init__.py:124: UserWarning: Could not import the lzma module. Your installed Python is incomplete. Attempting to use lzma compression will result in a RuntimeError.\n",
      "  warnings.warn(msg)\n"
     ]
    }
   ],
   "source": [
    "import pandas as pd"
   ]
  },
  {
   "cell_type": "code",
   "execution_count": 2,
   "metadata": {
    "collapsed": true
   },
   "outputs": [],
   "source": [
    "data2013 = pd.read_csv('2013_Events.csv')\n",
    "data2012 = pd.read_csv('2012_Events.csv')\n",
    "data2011 = pd.read_csv('2011_Events.csv')\n",
    "data20092010 = pd.read_csv('2009_2010_Events.csv')\n",
    "\n",
    "data2013 = data2013[['Event start date', 'Number of protesters', 'Oblast']]\n",
    "data2012 = data2012[['Event start date', 'Number of protesters', 'Oblast']]\n",
    "data2011 = data2011[['Event start date', 'Number of protesters', 'Oblast']]\n",
    "data20092010 = data20092010[['Event date', '# protester', 'Oblast']]\n",
    "data20092010.columns = ['Event start date', 'Number of protesters', 'Oblast']\n",
    "\n",
    "# Combine multiple years into one dataframe\n",
    "data = pd.concat([data2013, data2012, data2011, data20092010])\n",
    "\n",
    "# Sort by event date (descending)\n",
    "data['Event start date'] = pd.to_datetime(data['Event start date'], errors='coerce')\n",
    "data = data.sort_values(by = ['Event start date', 'Oblast'])\n",
    "\n",
    "data['Number of events'] = 0\n",
    "data['Number of protesters'] = pd.to_numeric(data['Number of protesters'], errors='coerce')"
   ]
  },
  {
   "cell_type": "code",
   "execution_count": 3,
   "metadata": {
    "pycharm": {
     "name": "#%%\n"
    }
   },
   "outputs": [
    {
     "data": {
      "text/plain": "19644"
     },
     "execution_count": 3,
     "metadata": {},
     "output_type": "execute_result"
    }
   ],
   "source": [
    "data.shape[0]"
   ]
  },
  {
   "cell_type": "code",
   "execution_count": 10,
   "outputs": [
    {
     "data": {
      "text/plain": "     Event start date  Number of protesters          Oblast  Number of events\n457        2009-10-01                   NaN          Crimea                 0\n483        2009-10-01                   NaN          Crimea                 0\n886        2009-10-01                   NaN  Dnipropetrovsk                 0\n1194       2009-10-01                   3.0            Kyiv                 0\n1804       2009-10-01                   NaN            Kyiv                 0",
      "text/html": "<div>\n<style scoped>\n    .dataframe tbody tr th:only-of-type {\n        vertical-align: middle;\n    }\n\n    .dataframe tbody tr th {\n        vertical-align: top;\n    }\n\n    .dataframe thead th {\n        text-align: right;\n    }\n</style>\n<table border=\"1\" class=\"dataframe\">\n  <thead>\n    <tr style=\"text-align: right;\">\n      <th></th>\n      <th>Event start date</th>\n      <th>Number of protesters</th>\n      <th>Oblast</th>\n      <th>Number of events</th>\n    </tr>\n  </thead>\n  <tbody>\n    <tr>\n      <th>457</th>\n      <td>2009-10-01</td>\n      <td>NaN</td>\n      <td>Crimea</td>\n      <td>0</td>\n    </tr>\n    <tr>\n      <th>483</th>\n      <td>2009-10-01</td>\n      <td>NaN</td>\n      <td>Crimea</td>\n      <td>0</td>\n    </tr>\n    <tr>\n      <th>886</th>\n      <td>2009-10-01</td>\n      <td>NaN</td>\n      <td>Dnipropetrovsk</td>\n      <td>0</td>\n    </tr>\n    <tr>\n      <th>1194</th>\n      <td>2009-10-01</td>\n      <td>3.0</td>\n      <td>Kyiv</td>\n      <td>0</td>\n    </tr>\n    <tr>\n      <th>1804</th>\n      <td>2009-10-01</td>\n      <td>NaN</td>\n      <td>Kyiv</td>\n      <td>0</td>\n    </tr>\n  </tbody>\n</table>\n</div>"
     },
     "execution_count": 10,
     "metadata": {},
     "output_type": "execute_result"
    }
   ],
   "source": [
    "data.head()"
   ],
   "metadata": {
    "collapsed": false,
    "pycharm": {
     "name": "#%%\n"
    }
   }
  },
  {
   "cell_type": "code",
   "execution_count": 4,
   "metadata": {
    "pycharm": {
     "name": "#%%\n"
    }
   },
   "outputs": [],
   "source": [
    "data = data.loc[data['Event start date'] < '2013-11-16']"
   ]
  },
  {
   "cell_type": "code",
   "execution_count": 5,
   "outputs": [
    {
     "data": {
      "text/plain": "17497"
     },
     "execution_count": 5,
     "metadata": {},
     "output_type": "execute_result"
    }
   ],
   "source": [
    "data.shape[0]\n"
   ],
   "metadata": {
    "collapsed": false,
    "pycharm": {
     "name": "#%%\n"
    }
   }
  },
  {
   "cell_type": "code",
   "execution_count": 6,
   "metadata": {
    "pycharm": {
     "name": "#%%\n"
    }
   },
   "outputs": [],
   "source": [
    "oblasts = ['Chernihiv', 'Donetsk', 'Ivano-Frankivsk', 'Kirovohrad', 'Kyiv', 'Lviv',\n",
    "           'Mykolaiv', 'Odesa', 'Sumy', 'Vinnytsia', 'Zaporizhzhia', 'Crimea', 'Kharkiv',\n",
    "           'Rivne', 'Luhansk', 'Cherkasy', 'Chernivtsi', 'Poltava', 'Zhytomyr', 'Lutsk',\n",
    "           'Uzhhorod', 'Dnipropetrovsk', 'Kherson', 'Khmelnytskyi', 'Ternopil']"
   ]
  },
  {
   "cell_type": "code",
   "execution_count": 7,
   "metadata": {
    "pycharm": {
     "name": "#%%\n"
    }
   },
   "outputs": [],
   "source": [
    "background_dict = {}"
   ]
  },
  {
   "cell_type": "code",
   "execution_count": 8,
   "metadata": {
    "pycharm": {
     "name": "#%%\n"
    }
   },
   "outputs": [],
   "source": [
    "for oblast in sorted(oblasts):\n",
    "    background_dict[oblast] = data.loc[data['Oblast'] == oblast].shape[0]/1507"
   ]
  },
  {
   "cell_type": "code",
   "execution_count": 9,
   "metadata": {
    "pycharm": {
     "name": "#%%\n"
    }
   },
   "outputs": [
    {
     "name": "stdout",
     "output_type": "stream",
     "text": [
      "{'Cherkasy': 0.32116788321167883, 'Chernihiv': 0.20637027206370273, 'Chernivtsi': 0.1964167219641672, 'Crimea': 0.7232913072329131, 'Dnipropetrovsk': 0.33112143331121435, 'Donetsk': 0.5912408759124088, 'Ivano-Frankivsk': 0.3417385534173855, 'Kharkiv': 0.8626410086264101, 'Kherson': 0.24883875248838752, 'Khmelnytskyi': 0.12541473125414732, 'Kirovohrad': 0.055739880557398806, 'Kyiv': 2.2952886529528866, 'Luhansk': 0.2714001327140013, 'Lutsk': 0.2714001327140013, 'Lviv': 0.9555408095554081, 'Mykolaiv': 0.570670205706702, 'Odesa': 0.8845388188453882, 'Poltava': 0.258792302587923, 'Rivne': 0.16589250165892502, 'Sumy': 0.19907100199071, 'Ternopil': 0.38420703384207033, 'Uzhhorod': 0.08427339084273391, 'Vinnytsia': 0.21433311214333112, 'Zaporizhzhia': 0.0856005308560053, 'Zhytomyr': 0.28069011280690115}\n"
     ]
    }
   ],
   "source": [
    "print(background_dict)"
   ]
  },
  {
   "cell_type": "code",
   "execution_count": 69,
   "metadata": {
    "pycharm": {
     "name": "#%%\n"
    }
   },
   "outputs": [],
   "source": [
    "# There was an error with my original version of pandas with datetime"
   ]
  }
 ],
 "metadata": {
  "kernelspec": {
   "display_name": "Python 3 (ipykernel)",
   "language": "python",
   "name": "python3"
  },
  "language_info": {
   "codemirror_mode": {
    "name": "ipython",
    "version": 3
   },
   "file_extension": ".py",
   "mimetype": "text/x-python",
   "name": "python",
   "nbconvert_exporter": "python",
   "pygments_lexer": "ipython3",
   "version": "3.9.6"
  }
 },
 "nbformat": 4,
 "nbformat_minor": 1
}